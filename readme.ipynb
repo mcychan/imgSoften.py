{
 "cells": [
  {
   "cell_type": "markdown",
   "id": "7b1b7c11",
   "metadata": {},
   "source": [
    "# What is the imgSoften.py?"
   ]
  },
  {
   "cell_type": "markdown",
   "id": "efde709f",
   "metadata": {},
   "source": [
    "## Introduction"
   ]
  },
  {
   "cell_type": "markdown",
   "id": "d6f638d2",
   "metadata": {},
   "source": [
    "imgSoften.py is a collection of image Filters for smoothing and edge enhancement that include: \n",
    "- Anisotropic Diffusion\n",
    "- Bilateral Filter\n",
    "- Extended Joint Bilateral Filter\n",
    "- Fast Global Image Smoothing based on Weighted Least Squares\n",
    "- Local Pixel Grouping Pattern Recognition Filter\n",
    "- Least-squares images Filter\n"
   ]
  },
  {
   "cell_type": "code",
   "execution_count": 1,
   "id": "d087394d",
   "metadata": {
    "collapsed": false
   },
   "outputs": [],
   "source": [
    "import cv2\n",
    "import sys\n",
    "\n",
    "from pathlib import Path\n",
    "from Evaluate import *\n",
    "from EJBilateralFilter import EJBilateralFilter"
   ]
  },
  {
   "cell_type": "code",
   "execution_count": 2,
   "id": "b4d05895",
   "metadata": {
    "collapsed": false
   },
   "outputs": [],
   "source": [
    "# Reading an image in default mode\n",
    "src = cv2.imread(target_file)"
   ]
  },
  {
   "cell_type": "code",
   "execution_count": 3,
   "id": "bb4cbde3",
   "metadata": {
    "collapsed": false
   },
   "outputs": [],
   "source": [
    "dst = EJBilateralFilter(src, 5, 4).filter()"
   ]
  },
  {
   "cell_type": "code",
   "execution_count": 4,
   "id": "c1c92331",
   "metadata": {
    "collapsed": false
   },
   "outputs": [
    {
     "data": {
      "text/plain": [
       "Well done!\n",
       "Filter: EJBilateral PSNR: 25.374969881209974 SSIM: 0.76010174"
      ]
     },
     "execution_count": 4,
     "metadata": {},
     "output_type": "execute_result"
    }
   ],
   "source": [
    "psnr, ssim = calculate_psnr(src, dst), calculate_ssim(src, dst)\n",
    "print(\"Filter:\", filter_name, \"PSNR:\", psnr, \"SSIM:\", ssim)"
   ]
  }
 ],
 "metadata": {},
 "nbformat": 4,
 "nbformat_minor": 5
}
