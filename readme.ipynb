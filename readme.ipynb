{
 "metadata": {
  "name": ""
 },
 "nbformat": 3,
 "nbformat_minor": 0,
 "worksheets": [
  {
   "cells": [
    {
     "cell_type": "heading",
     "level": 1,
     "metadata": {},
     "source": [
    "# What is the imgSoften.py?"
   ]
  },
  {
   "cell_type": "markdown",
   "metadata": {},
   "source": [
      "## Introduction"
     ]
    },
    {
     "cell_type": "markdown",
     "metadata": {},
     "source": [
      "imgSoften.py is a collection of image Filters for smoothing and edge enhancement that include: \n",
      "- Anisotropic Diffusion\n",
      "- Bilateral\n",
      "- EJBilateral\n",
      "- FGS\n",
      "- LPGPCA\n",
      "- LS\n"
     ]
    },
    {
     "cell_type": "code",
     "collapsed": false,
     "input": [
      "import cv2\n",
      "from pathlib import Path",
      "from Evaluate import *",
      "from EJBilateralFilter import EJBilateralFilter",
      "import sys"
     ],
     "language": "python",
     "metadata": {},
     "outputs": [],
     "prompt_number": 1
    },
    {
     "cell_type": "code",
     "collapsed": false,
     "input": [
      "# Reading an image in default mode",
      "src = cv2.imread(target_file)"
     ],
     "language": "python",
     "metadata": {},
     "outputs": [],
     "prompt_number": 2
    },
    {
     "cell_type": "code",
     "collapsed": false,
     "input": [
      "dst = EJBilateralFilter(src, 5, 4).filter()"
     ],
     "language": "python",
     "metadata": {},
     "outputs": [
      {
       "metadata": {},
       "output_type": "pyout",
       "prompt_number": 3,
       "text": [
        "Well done!\n",
        "Filter: EJBilateral PSNR: 25.374969881209974 SSIM: 0.76010174"
       ]
      }
     ],
     "prompt_number": 3
    }
   ],
   "metadata": {}
  }
 ]
}
